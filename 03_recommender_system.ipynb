{
  "nbformat": 4,
  "nbformat_minor": 0,
  "metadata": {
    "colab": {
      "name": "03_recommender_system.ipynb",
      "provenance": [],
      "collapsed_sections": []
    },
    "kernelspec": {
      "name": "python3",
      "display_name": "Python 3"
    }
  },
  "cells": [
    {
      "cell_type": "markdown",
      "metadata": {
        "id": "m9Lg8rY1maN-"
      },
      "source": [
        "# Recommender system"
      ]
    },
    {
      "cell_type": "markdown",
      "metadata": {
        "id": "5EXkeJ7qcsAC"
      },
      "source": [
        "Recommender system using a simplified version of the dataset from the MELI Challenge 2020. To find similar items to a target item, first i will train a model, and next i will use the embedding vectors with KDTrees"
      ]
    },
    {
      "cell_type": "markdown",
      "metadata": {
        "id": "E11UIrWe_R-w"
      },
      "source": [
        "### Drive mounting, defining functions and libraries loading"
      ]
    },
    {
      "cell_type": "code",
      "metadata": {
        "id": "XFy6WLIamekH"
      },
      "source": [
        "import pickle\n",
        "import gzip\n",
        "import json\n",
        "import gc\n",
        "import math\n",
        "import random\n",
        "import tensorflow as tf\n",
        "import numpy as np\n",
        "from numpy import dot\n",
        "from numpy.linalg import norm\n",
        "from sklearn import preprocessing\n",
        "from collections import Counter, defaultdict\n",
        "from tqdm.notebook import tqdm\n",
        "from pathlib import Path\n",
        "from sklearn.model_selection import train_test_split\n",
        "from collections import Counter\n",
        "import pandas as pd\n",
        "from google.colab.data_table import DataTable"
      ],
      "execution_count": 132,
      "outputs": []
    },
    {
      "cell_type": "code",
      "metadata": {
        "id": "rpOweV2_DYEv"
      },
      "source": [
        "from keras.layers import Input, Dense, Flatten, Input, Embedding, Add, Concatenate, Dropout\n",
        "from keras.models import Model\n",
        "from tensorflow.keras import regularizers\n",
        "from tensorflow import keras\n",
        "from keras.regularizers import l2"
      ],
      "execution_count": 105,
      "outputs": []
    },
    {
      "cell_type": "code",
      "metadata": {
        "id": "R8RQvpik_bba"
      },
      "source": [
        "%%capture\n",
        "!pip install funpymodeling\n",
        "from funpymodeling.data_prep import todf\n",
        "from funpymodeling.exploratory import freq_tbl, profiling_num,status"
      ],
      "execution_count": 106,
      "outputs": []
    },
    {
      "cell_type": "code",
      "metadata": {
        "colab": {
          "base_uri": "https://localhost:8080/"
        },
        "id": "56i6b55-_dUb",
        "outputId": "018feb6d-12a6-407e-a3bd-d950cef569c3"
      },
      "source": [
        "from google.colab import drive\n",
        "drive.mount('/content/drive')"
      ],
      "execution_count": 107,
      "outputs": [
        {
          "output_type": "stream",
          "text": [
            "Drive already mounted at /content/drive; to attempt to forcibly remount, call drive.mount(\"/content/drive\", force_remount=True).\n"
          ],
          "name": "stdout"
        }
      ]
    },
    {
      "cell_type": "code",
      "metadata": {
        "id": "HkgZrlJ3_fXM"
      },
      "source": [
        "import os\n",
        "os.chdir('/content/drive/MyDrive/Cursos/DL360 N2')"
      ],
      "execution_count": 108,
      "outputs": []
    },
    {
      "cell_type": "code",
      "metadata": {
        "id": "uODlD5tihkyc"
      },
      "source": [
        "\n",
        "\n",
        "\n"
      ],
      "execution_count": 108,
      "outputs": []
    },
    {
      "cell_type": "markdown",
      "metadata": {
        "id": "Y8vEkwC7hom5"
      },
      "source": [
        "#### Function to search for the k most similar items to a target item"
      ]
    },
    {
      "cell_type": "code",
      "metadata": {
        "id": "0s-QYY0khlAP"
      },
      "source": [
        "def find_k_similar_items(embeddings, df_items_selec, encoded_id_to_check, number_of_similar_items, encoder):\n",
        "  tree = spatial.KDTree(embeddings)\n",
        "\n",
        "  # Searching in the tree\n",
        "  dist, encoded_id = tree.query(embeddings[encoded_id_to_check], k=k_elements+1)\n",
        "  \n",
        "  # Creating most similiar item dataframe\n",
        "  df_most_similar = pd.DataFrame({'dist':dist, 'encoded':encoded_id})\n",
        "\n",
        "  # Deleting the item to check, and adding rank\n",
        "  df_most_similar = df_most_similar[df_most_similar['encoded']!=encoded_id_to_check].copy()\n",
        "  df_most_similar['rank'] = list(range(1, k_elements+1))\n",
        "\n",
        "  # Searching for the id with the inverse encoder\n",
        "  similar_item_id = encoder.inverse_transform(df_most_similar['encoded'])\n",
        "  df_most_similar['item_id'] = similar_item_id\n",
        "\n",
        "  # First the item that we want to check, and next there are the top items\n",
        "  df_items_selec[df_items_selec['item_id'].isin(encoder.inverse_transform([encoded_id_to_check]))][['item_id','title', 'domain_id', 'price']]\n",
        "  df_top_items=df_items_selec[df_items_selec['item_id'].isin(df_most_similar['item_id'])][['item_id','title', 'domain_id', 'price']]\n",
        "\n",
        "  # Merging both in one dataframe\n",
        "  return pd.merge(df_top_items, df_most_similar, on='item_id').sort_values('rank')"
      ],
      "execution_count": 109,
      "outputs": []
    },
    {
      "cell_type": "code",
      "metadata": {
        "id": "wjkZ0-_o_9PH"
      },
      "source": [
        "\n",
        "\n",
        "\n"
      ],
      "execution_count": 109,
      "outputs": []
    },
    {
      "cell_type": "markdown",
      "metadata": {
        "id": "EtIFVKcm_9_r"
      },
      "source": [
        "### Data Loading"
      ]
    },
    {
      "cell_type": "markdown",
      "metadata": {
        "id": "M4ylbufmBA2l"
      },
      "source": [
        "Metadata loading"
      ]
    },
    {
      "cell_type": "code",
      "metadata": {
        "id": "jYyquAaOAAsS"
      },
      "source": [
        "pkl_item_selec = '/content/drive/MyDrive/Cursos/DL360 N2/data/meli_files/df_item_selec.pkl'\n",
        "\n",
        "with open(pkl_item_selec, \"rb\") as f:\n",
        "    df_items_selec = pickle.load(f)\n",
        "\n",
        "items_selection = df_items_selec['item_id'].tolist()"
      ],
      "execution_count": 110,
      "outputs": []
    },
    {
      "cell_type": "code",
      "metadata": {
        "colab": {
          "base_uri": "https://localhost:8080/",
          "height": 297
        },
        "id": "d_m0XqKRAGad",
        "outputId": "c120d6dc-1c29-476e-83f5-2ba258c9c98d"
      },
      "source": [
        "freq_tbl(df_items_selec['domain_id'])"
      ],
      "execution_count": 111,
      "outputs": [
        {
          "output_type": "execute_result",
          "data": {
            "text/html": [
              "<div>\n",
              "<style scoped>\n",
              "    .dataframe tbody tr th:only-of-type {\n",
              "        vertical-align: middle;\n",
              "    }\n",
              "\n",
              "    .dataframe tbody tr th {\n",
              "        vertical-align: top;\n",
              "    }\n",
              "\n",
              "    .dataframe thead th {\n",
              "        text-align: right;\n",
              "    }\n",
              "</style>\n",
              "<table border=\"1\" class=\"dataframe\">\n",
              "  <thead>\n",
              "    <tr style=\"text-align: right;\">\n",
              "      <th></th>\n",
              "      <th>domain_id</th>\n",
              "      <th>frequency</th>\n",
              "      <th>percentage</th>\n",
              "      <th>cumulative_perc</th>\n",
              "    </tr>\n",
              "  </thead>\n",
              "  <tbody>\n",
              "    <tr>\n",
              "      <th>0</th>\n",
              "      <td>MLB-CELLPHONES</td>\n",
              "      <td>38390</td>\n",
              "      <td>0.465610</td>\n",
              "      <td>0.465610</td>\n",
              "    </tr>\n",
              "    <tr>\n",
              "      <th>1</th>\n",
              "      <td>MLB-HEADPHONES</td>\n",
              "      <td>11328</td>\n",
              "      <td>0.137391</td>\n",
              "      <td>0.603001</td>\n",
              "    </tr>\n",
              "    <tr>\n",
              "      <th>2</th>\n",
              "      <td>MLM-CELLPHONES</td>\n",
              "      <td>8035</td>\n",
              "      <td>0.097452</td>\n",
              "      <td>0.700452</td>\n",
              "    </tr>\n",
              "    <tr>\n",
              "      <th>3</th>\n",
              "      <td>MLM-CELLPHONE_COVERS</td>\n",
              "      <td>7475</td>\n",
              "      <td>0.090660</td>\n",
              "      <td>0.791112</td>\n",
              "    </tr>\n",
              "    <tr>\n",
              "      <th>4</th>\n",
              "      <td>MLB-CELLPHONE_SCREENS</td>\n",
              "      <td>6595</td>\n",
              "      <td>0.079987</td>\n",
              "      <td>0.871099</td>\n",
              "    </tr>\n",
              "    <tr>\n",
              "      <th>5</th>\n",
              "      <td>MLM-HEADPHONES</td>\n",
              "      <td>5731</td>\n",
              "      <td>0.069508</td>\n",
              "      <td>0.940607</td>\n",
              "    </tr>\n",
              "    <tr>\n",
              "      <th>6</th>\n",
              "      <td>MLB-CELLPHONE_ACCESSORIES</td>\n",
              "      <td>3177</td>\n",
              "      <td>0.038532</td>\n",
              "      <td>0.979139</td>\n",
              "    </tr>\n",
              "    <tr>\n",
              "      <th>7</th>\n",
              "      <td>MLM-CELLPHONE_ACCESSORIES</td>\n",
              "      <td>1720</td>\n",
              "      <td>0.020861</td>\n",
              "      <td>1.000000</td>\n",
              "    </tr>\n",
              "  </tbody>\n",
              "</table>\n",
              "</div>"
            ],
            "text/plain": [
              "                   domain_id  frequency  percentage  cumulative_perc\n",
              "0             MLB-CELLPHONES      38390    0.465610         0.465610\n",
              "1             MLB-HEADPHONES      11328    0.137391         0.603001\n",
              "2             MLM-CELLPHONES       8035    0.097452         0.700452\n",
              "3       MLM-CELLPHONE_COVERS       7475    0.090660         0.791112\n",
              "4      MLB-CELLPHONE_SCREENS       6595    0.079987         0.871099\n",
              "5             MLM-HEADPHONES       5731    0.069508         0.940607\n",
              "6  MLB-CELLPHONE_ACCESSORIES       3177    0.038532         0.979139\n",
              "7  MLM-CELLPHONE_ACCESSORIES       1720    0.020861         1.000000"
            ]
          },
          "metadata": {
            "tags": []
          },
          "execution_count": 111
        }
      ]
    },
    {
      "cell_type": "markdown",
      "metadata": {
        "id": "0-H3xZfyAKBR"
      },
      "source": [
        "There are 8 categories, all related to cellphones"
      ]
    },
    {
      "cell_type": "code",
      "metadata": {
        "id": "Dmipi6nIANtR"
      },
      "source": [
        "\n"
      ],
      "execution_count": 111,
      "outputs": []
    },
    {
      "cell_type": "markdown",
      "metadata": {
        "id": "pQduEC1ZBGCM"
      },
      "source": [
        "Training data loading"
      ]
    },
    {
      "cell_type": "code",
      "metadata": {
        "id": "hw4PADDjBLw4"
      },
      "source": [
        "pkl_datos = \"/content/drive/MyDrive/Cursos/DL360 N2/data/meli_files/data_seq.pkl\"\n",
        "\n",
        "with open(pkl_datos, \"rb\") as f:\n",
        "  x_seq, y_seq = pickle.load(f)"
      ],
      "execution_count": 112,
      "outputs": []
    },
    {
      "cell_type": "code",
      "metadata": {
        "colab": {
          "base_uri": "https://localhost:8080/"
        },
        "id": "rH8csTsOBRUb",
        "outputId": "fcc79ab1-e5ad-4c5b-dc88-e027a10c4a09"
      },
      "source": [
        "x_seq"
      ],
      "execution_count": 113,
      "outputs": [
        {
          "output_type": "execute_result",
          "data": {
            "text/plain": [
              "array([[      0, 1894398],\n",
              "       [      0, 1730020],\n",
              "       [1709387, 1983629],\n",
              "       ...,\n",
              "       [1702233,  165816],\n",
              "       [ 235524, 1726723],\n",
              "       [1399383,  492150]], dtype=int32)"
            ]
          },
          "metadata": {
            "tags": []
          },
          "execution_count": 113
        }
      ]
    },
    {
      "cell_type": "code",
      "metadata": {
        "colab": {
          "base_uri": "https://localhost:8080/"
        },
        "id": "5EoZHqBqBSO2",
        "outputId": "380de0b6-4fdc-489f-cf49-24028a87dc7b"
      },
      "source": [
        "y_seq"
      ],
      "execution_count": 114,
      "outputs": [
        {
          "output_type": "execute_result",
          "data": {
            "text/plain": [
              "array([1591096, 1310157,  699581, ...,  242012,  485683, 2059288],\n",
              "      dtype=int32)"
            ]
          },
          "metadata": {
            "tags": []
          },
          "execution_count": 114
        }
      ]
    },
    {
      "cell_type": "markdown",
      "metadata": {
        "id": "G5DzWH2kBgyI"
      },
      "source": [
        "This training data was obtained forming sequencies of 3 items. For example, if i have 3 items, X, Y and Z. If X and Y was watched, then the next item that should be watched will be Z. If X and Z was watched, then the next item that should be watched will be Y. Finally, if Y and Z was watched, then the next item that should be watched will be X\n",
        "\n",
        "So, x_seq is a matrix of (n_elements, 2) and Y a vector of n_elements"
      ]
    },
    {
      "cell_type": "code",
      "metadata": {
        "colab": {
          "base_uri": "https://localhost:8080/"
        },
        "id": "gULki2U7CXuk",
        "outputId": "d2b4da2d-f71f-4194-92fb-7d3a8a9afdb4"
      },
      "source": [
        "print(x_seq.shape)\n",
        "print(y_seq.shape)"
      ],
      "execution_count": 115,
      "outputs": [
        {
          "output_type": "stream",
          "text": [
            "(44129, 2)\n",
            "(44129,)\n"
          ],
          "name": "stdout"
        }
      ]
    },
    {
      "cell_type": "code",
      "metadata": {
        "id": "xU2OXlGrCszO"
      },
      "source": [
        "\n",
        "\n",
        "\n"
      ],
      "execution_count": 115,
      "outputs": []
    },
    {
      "cell_type": "markdown",
      "metadata": {
        "id": "w92ahNptCt3E"
      },
      "source": [
        "### Encoding variables"
      ]
    },
    {
      "cell_type": "markdown",
      "metadata": {
        "id": "PHrWljC2Cxhn"
      },
      "source": [
        "<h4>X encoding</h4>"
      ]
    },
    {
      "cell_type": "code",
      "metadata": {
        "id": "X7ljzG47CvIq"
      },
      "source": [
        "dim1, dim2 = x_seq.shape\n",
        "\n",
        "seq_x_flat = x_seq.flatten()"
      ],
      "execution_count": 116,
      "outputs": []
    },
    {
      "cell_type": "code",
      "metadata": {
        "id": "4GZTJbBcC5-1"
      },
      "source": [
        "le_x = preprocessing.LabelEncoder()\n",
        "\n",
        "le_x.fit(seq_x_flat)\n",
        "\n",
        "seq_x_flat_encoded = le_x.transform(seq_x_flat)"
      ],
      "execution_count": 117,
      "outputs": []
    },
    {
      "cell_type": "code",
      "metadata": {
        "colab": {
          "base_uri": "https://localhost:8080/"
        },
        "id": "rv8jrOOCC74i",
        "outputId": "02029564-451c-4b4f-8429-dc927e564dfa"
      },
      "source": [
        "seq_x_encoded = seq_x_flat_encoded.reshape([dim1, dim2])\n",
        "seq_x_encoded"
      ],
      "execution_count": 118,
      "outputs": [
        {
          "output_type": "execute_result",
          "data": {
            "text/plain": [
              "array([[    0, 12641],\n",
              "       [    0, 11521],\n",
              "       [11408, 13229],\n",
              "       ...,\n",
              "       [11361,  1076],\n",
              "       [ 1508, 11496],\n",
              "       [ 9238,  3157]])"
            ]
          },
          "metadata": {
            "tags": []
          },
          "execution_count": 118
        }
      ]
    },
    {
      "cell_type": "code",
      "metadata": {
        "id": "ZEWJYfCfDGAR"
      },
      "source": [
        ""
      ],
      "execution_count": 118,
      "outputs": []
    },
    {
      "cell_type": "markdown",
      "metadata": {
        "id": "qlU0NbUaDGU2"
      },
      "source": [
        "<h4>Y encoding</h4>"
      ]
    },
    {
      "cell_type": "code",
      "metadata": {
        "colab": {
          "base_uri": "https://localhost:8080/"
        },
        "id": "DTu3ciWDDJFi",
        "outputId": "8f82c94c-27b2-4a63-d761-ac2a4db1bd55"
      },
      "source": [
        "le_y = preprocessing.LabelEncoder()\n",
        "\n",
        "le_y.fit(y_seq)\n",
        "\n",
        "seq_y_encoded = le_y.transform(y_seq)\n",
        "seq_y_encoded"
      ],
      "execution_count": 119,
      "outputs": [
        {
          "output_type": "execute_result",
          "data": {
            "text/plain": [
              "array([4869, 4007, 2093, ...,  697, 1388, 6352])"
            ]
          },
          "metadata": {
            "tags": []
          },
          "execution_count": 119
        }
      ]
    },
    {
      "cell_type": "code",
      "metadata": {
        "colab": {
          "base_uri": "https://localhost:8080/"
        },
        "id": "d6sN5Z4XDLK1",
        "outputId": "57a55b87-2f8e-4094-ee9c-633be5c2142e"
      },
      "source": [
        "N_UNIQUE_INPUT = seq_x_flat_encoded.max()+1\n",
        "N_UNIQUE_Y_ITEMS = seq_y_encoded.max()+1\n",
        "SEQ_LEN = 2\n",
        "\n",
        "print(N_UNIQUE_INPUT, N_UNIQUE_Y_ITEMS, SEQ_LEN)"
      ],
      "execution_count": 120,
      "outputs": [
        {
          "output_type": "stream",
          "text": [
            "14025 6488 2\n"
          ],
          "name": "stdout"
        }
      ]
    },
    {
      "cell_type": "code",
      "metadata": {
        "id": "4zmX8bUeDQqj"
      },
      "source": [
        "\n",
        "\n",
        "\n"
      ],
      "execution_count": 120,
      "outputs": []
    },
    {
      "cell_type": "markdown",
      "metadata": {
        "id": "QTX7vQALDRdp"
      },
      "source": [
        "### Models Creation"
      ]
    },
    {
      "cell_type": "markdown",
      "metadata": {
        "id": "S0KH45-0Dg9P"
      },
      "source": [
        "Defining the model"
      ]
    },
    {
      "cell_type": "code",
      "metadata": {
        "id": "WZqBmN83DTJE"
      },
      "source": [
        "input = Input(shape=(SEQ_LEN,), name='item') \n",
        "\n",
        "x = Embedding(input_dim = N_UNIQUE_INPUT, \n",
        "                        output_dim = 20, \n",
        "                        input_length = SEQ_LEN, name='embedding')(input)\n",
        "\n",
        "x = keras.layers.Lambda(lambda x: tf.reduce_mean(x, axis=1))(x)\n",
        "\n",
        "x = Dropout(0.3)(x)\n",
        "\n",
        "x = Dense(32, activation=\"relu\", kernel_regularizer=regularizers.l2(0.001))(x)\n",
        "\n",
        "x = Dropout(0.3)(x)\n",
        "\n",
        "x = Dense(16, activation=\"relu\", kernel_regularizer=regularizers.l2(0.001))(x)\n",
        "\n",
        "out_num = Dense(N_UNIQUE_Y_ITEMS, activation='softmax')(x)\n",
        "\n",
        "model_final = Model(inputs=input, outputs=out_num)"
      ],
      "execution_count": 121,
      "outputs": []
    },
    {
      "cell_type": "code",
      "metadata": {
        "colab": {
          "base_uri": "https://localhost:8080/"
        },
        "id": "N0vr3yD-DeSX",
        "outputId": "39336bdd-273c-4c90-bcfd-45f15d606f10"
      },
      "source": [
        "model_final.summary()"
      ],
      "execution_count": 122,
      "outputs": [
        {
          "output_type": "stream",
          "text": [
            "Model: \"model_3\"\n",
            "_________________________________________________________________\n",
            "Layer (type)                 Output Shape              Param #   \n",
            "=================================================================\n",
            "item (InputLayer)            [(None, 2)]               0         \n",
            "_________________________________________________________________\n",
            "embedding (Embedding)        (None, 2, 20)             280500    \n",
            "_________________________________________________________________\n",
            "lambda_3 (Lambda)            (None, 20)                0         \n",
            "_________________________________________________________________\n",
            "dropout_6 (Dropout)          (None, 20)                0         \n",
            "_________________________________________________________________\n",
            "dense_9 (Dense)              (None, 32)                672       \n",
            "_________________________________________________________________\n",
            "dropout_7 (Dropout)          (None, 32)                0         \n",
            "_________________________________________________________________\n",
            "dense_10 (Dense)             (None, 16)                528       \n",
            "_________________________________________________________________\n",
            "dense_11 (Dense)             (None, 6488)              110296    \n",
            "=================================================================\n",
            "Total params: 391,996\n",
            "Trainable params: 391,996\n",
            "Non-trainable params: 0\n",
            "_________________________________________________________________\n"
          ],
          "name": "stdout"
        }
      ]
    },
    {
      "cell_type": "code",
      "metadata": {
        "colab": {
          "base_uri": "https://localhost:8080/",
          "height": 865
        },
        "id": "z_WtJFHLDkXc",
        "outputId": "bf3dfde4-c02a-4292-8a24-aa89b9cddc1b"
      },
      "source": [
        "keras.utils.plot_model(model_final, show_shapes=True)"
      ],
      "execution_count": 123,
      "outputs": [
        {
          "output_type": "execute_result",
          "data": {
            "image/png": "[encoded data removed]",
            "text/plain": [
              "<IPython.core.display.Image object>"
            ]
          },
          "metadata": {
            "tags": []
          },
          "execution_count": 123
        }
      ]
    },
    {
      "cell_type": "code",
      "metadata": {
        "id": "8iiFreCIDqTi"
      },
      "source": [
        ""
      ],
      "execution_count": 123,
      "outputs": []
    },
    {
      "cell_type": "markdown",
      "metadata": {
        "id": "r5QY9-qmDibE"
      },
      "source": [
        "Defining a decaying learning rate and compiling the model"
      ]
    },
    {
      "cell_type": "code",
      "metadata": {
        "id": "opZYwIeTDpk3"
      },
      "source": [
        "lr_schedule = keras.optimizers.schedules.ExponentialDecay(\n",
        "    initial_learning_rate = 6.5e-2,\n",
        "    decay_steps = 10000, # cant. casos train / batch size\n",
        "    decay_rate = 0.8, \n",
        "    staircase = False)"
      ],
      "execution_count": 124,
      "outputs": []
    },
    {
      "cell_type": "code",
      "metadata": {
        "id": "5UMtWBLXDuTR"
      },
      "source": [
        "model_final.compile(optimizer = keras.optimizers.Adam(learning_rate=lr_schedule), \n",
        "              loss = tf.keras.losses.sparse_categorical_crossentropy,\n",
        "              metrics = 'accuracy')"
      ],
      "execution_count": 125,
      "outputs": []
    },
    {
      "cell_type": "code",
      "metadata": {
        "colab": {
          "base_uri": "https://localhost:8080/"
        },
        "id": "soK-n5zADwEY",
        "outputId": "ff1cc7c0-a295-41ee-bb36-84598f56cf5c"
      },
      "source": [
        "history = model_final.fit(x=seq_x_encoded, y=seq_y_encoded, epochs=10, batch_size=32, validation_split=0.2)"
      ],
      "execution_count": 126,
      "outputs": [
        {
          "output_type": "stream",
          "text": [
            "Epoch 1/10\n",
            "1104/1104 [==============================] - 13s 11ms/step - loss: 8.7089 - accuracy: 0.0063 - val_loss: 8.5019 - val_accuracy: 0.0105\n",
            "Epoch 2/10\n",
            "1104/1104 [==============================] - 12s 11ms/step - loss: 8.2161 - accuracy: 0.0086 - val_loss: 8.4690 - val_accuracy: 0.0105\n",
            "Epoch 3/10\n",
            "1104/1104 [==============================] - 12s 11ms/step - loss: 8.2298 - accuracy: 0.0075 - val_loss: 8.4610 - val_accuracy: 0.0105\n",
            "Epoch 4/10\n",
            "1104/1104 [==============================] - 12s 11ms/step - loss: 8.2102 - accuracy: 0.0086 - val_loss: 8.4710 - val_accuracy: 0.0105\n",
            "Epoch 5/10\n",
            "1104/1104 [==============================] - 12s 11ms/step - loss: 8.2105 - accuracy: 0.0072 - val_loss: 8.4718 - val_accuracy: 0.0105\n",
            "Epoch 6/10\n",
            "1104/1104 [==============================] - 12s 11ms/step - loss: 8.2074 - accuracy: 0.0085 - val_loss: 8.4830 - val_accuracy: 0.0105\n",
            "Epoch 7/10\n",
            "1104/1104 [==============================] - 12s 11ms/step - loss: 8.2072 - accuracy: 0.0082 - val_loss: 8.4956 - val_accuracy: 0.0105\n",
            "Epoch 8/10\n",
            "1104/1104 [==============================] - 12s 11ms/step - loss: 8.2063 - accuracy: 0.0084 - val_loss: 8.5005 - val_accuracy: 0.0105\n",
            "Epoch 9/10\n",
            "1104/1104 [==============================] - 12s 11ms/step - loss: 8.1936 - accuracy: 0.0087 - val_loss: 8.5078 - val_accuracy: 0.0105\n",
            "Epoch 10/10\n",
            "1104/1104 [==============================] - 12s 11ms/step - loss: 8.1865 - accuracy: 0.0073 - val_loss: 8.5113 - val_accuracy: 0.0105\n"
          ],
          "name": "stdout"
        }
      ]
    },
    {
      "cell_type": "markdown",
      "metadata": {
        "id": "xAOyq48qdPYz"
      },
      "source": [
        "There is a little overfitting, so the model can be improved"
      ]
    },
    {
      "cell_type": "code",
      "metadata": {
        "id": "TE4xniTIcChv"
      },
      "source": [
        "\n",
        "\n",
        "\n"
      ],
      "execution_count": 126,
      "outputs": []
    },
    {
      "cell_type": "markdown",
      "metadata": {
        "id": "Yti3mwu-cDLh"
      },
      "source": [
        "### Finding similar items with embeddings"
      ]
    },
    {
      "cell_type": "code",
      "metadata": {
        "colab": {
          "base_uri": "https://localhost:8080/"
        },
        "id": "6cLsDYo9cHeS",
        "outputId": "0c42563b-50b9-4613-b80e-f0da60a48e0a"
      },
      "source": [
        "embeddings = model_final.layers[1].get_weights()[0]\n",
        "embeddings.shape"
      ],
      "execution_count": 127,
      "outputs": [
        {
          "output_type": "execute_result",
          "data": {
            "text/plain": [
              "(14025, 20)"
            ]
          },
          "metadata": {
            "tags": []
          },
          "execution_count": 127
        }
      ]
    },
    {
      "cell_type": "code",
      "metadata": {
        "colab": {
          "base_uri": "https://localhost:8080/"
        },
        "id": "WQ6qNt-nfBeC",
        "outputId": "cc201621-2053-490d-c26b-d55d368877f6"
      },
      "source": [
        "embeddings"
      ],
      "execution_count": 128,
      "outputs": [
        {
          "output_type": "execute_result",
          "data": {
            "text/plain": [
              "array([[ 0.00539593, -0.3465137 , -0.42117178, ...,  0.50988895,\n",
              "         0.33158475,  0.36881217],\n",
              "       [-0.02389205,  0.0484152 , -0.02849256, ..., -0.03936899,\n",
              "         0.0093295 ,  0.03769249],\n",
              "       [ 0.04552079, -0.0081803 , -0.04791714, ...,  0.03126779,\n",
              "        -0.01493918,  0.0293668 ],\n",
              "       ...,\n",
              "       [-0.00745691, -0.01557352,  0.00762706, ..., -0.01756407,\n",
              "        -0.0134827 ,  0.04410884],\n",
              "       [-0.00051261, -0.0242442 , -0.02406838, ...,  0.00826316,\n",
              "         0.01602731,  0.04054907],\n",
              "       [-0.01483037,  0.02648458,  0.01083311, ..., -0.01370523,\n",
              "         0.02716651, -0.03856451]], dtype=float32)"
            ]
          },
          "metadata": {
            "tags": []
          },
          "execution_count": 128
        }
      ]
    },
    {
      "cell_type": "markdown",
      "metadata": {
        "id": "XQlHDBQIfqxs"
      },
      "source": [
        "From the model, i see the embedding layer"
      ]
    },
    {
      "cell_type": "code",
      "metadata": {
        "id": "u-MaEaKsfoY3"
      },
      "source": [
        "\n",
        "\n",
        "\n"
      ],
      "execution_count": 128,
      "outputs": []
    },
    {
      "cell_type": "markdown",
      "metadata": {
        "id": "lx15jz7Rfvk2"
      },
      "source": [
        "<h3>Using KDTree to find vectors</h3>"
      ]
    },
    {
      "cell_type": "markdown",
      "metadata": {
        "id": "peWdy9iMh2wf"
      },
      "source": [
        "Saving all the data"
      ]
    },
    {
      "cell_type": "code",
      "metadata": {
        "id": "SjcZCtJPf1TA"
      },
      "source": [
        "prep_files='/content/drive/MyDrive/Cursos/DL360 N2/data/meli_files/prep_files.pkl' "
      ],
      "execution_count": 129,
      "outputs": []
    },
    {
      "cell_type": "code",
      "metadata": {
        "id": "XZuYh0DCh374"
      },
      "source": [
        "if False:\n",
        "  with open(prep_files, \"wb\") as f:\n",
        "      pickle.dump([df_items_selec, le_x, embeddings],f)\n",
        "else:\n",
        "  with open(prep_files, \"rb\") as f:\n",
        "    df_items_selec, le_x, embeddings = pickle.load(f)"
      ],
      "execution_count": 130,
      "outputs": []
    },
    {
      "cell_type": "code",
      "metadata": {
        "id": "5E5lzsBrh8l2"
      },
      "source": [
        ""
      ],
      "execution_count": 130,
      "outputs": []
    },
    {
      "cell_type": "markdown",
      "metadata": {
        "id": "cQkVlU7ziX6J"
      },
      "source": [
        "Using the function to find the k most similar items to a target item"
      ]
    },
    {
      "cell_type": "code",
      "metadata": {
        "colab": {
          "base_uri": "https://localhost:8080/",
          "height": 142
        },
        "id": "XaUu0Ee5hOTS",
        "outputId": "f28573bc-97c0-4a8b-951d-dead0c741a98"
      },
      "source": [
        "find_k_similar_items(embeddings, df_items_selec, 8321, 3, le_x)"
      ],
      "execution_count": 131,
      "outputs": [
        {
          "output_type": "execute_result",
          "data": {
            "text/html": [
              "<div>\n",
              "<style scoped>\n",
              "    .dataframe tbody tr th:only-of-type {\n",
              "        vertical-align: middle;\n",
              "    }\n",
              "\n",
              "    .dataframe tbody tr th {\n",
              "        vertical-align: top;\n",
              "    }\n",
              "\n",
              "    .dataframe thead th {\n",
              "        text-align: right;\n",
              "    }\n",
              "</style>\n",
              "<table border=\"1\" class=\"dataframe\">\n",
              "  <thead>\n",
              "    <tr style=\"text-align: right;\">\n",
              "      <th></th>\n",
              "      <th>item_id</th>\n",
              "      <th>title</th>\n",
              "      <th>domain_id</th>\n",
              "      <th>price</th>\n",
              "      <th>dist</th>\n",
              "      <th>encoded</th>\n",
              "      <th>rank</th>\n",
              "    </tr>\n",
              "  </thead>\n",
              "  <tbody>\n",
              "    <tr>\n",
              "      <th>0</th>\n",
              "      <td>1317531</td>\n",
              "      <td>Moto G7 Play Dual Sim 32 Gb Índigo Oscuro 2 Gb...</td>\n",
              "      <td>MLM-CELLPHONES</td>\n",
              "      <td>2997.00</td>\n",
              "      <td>0.200620</td>\n",
              "      <td>8700</td>\n",
              "      <td>1</td>\n",
              "    </tr>\n",
              "    <tr>\n",
              "      <th>1</th>\n",
              "      <td>1849208</td>\n",
              "      <td>Celular Xiaomi Redmi Note 7 128 Gb /4 Gb Branc...</td>\n",
              "      <td>MLB-CELLPHONES</td>\n",
              "      <td>1199.00</td>\n",
              "      <td>0.507660</td>\n",
              "      <td>12322</td>\n",
              "      <td>2</td>\n",
              "    </tr>\n",
              "    <tr>\n",
              "      <th>2</th>\n",
              "      <td>925606</td>\n",
              "      <td>Celular Xiaomi Redmi Note 7 128 Gb / 4 Gb Bran...</td>\n",
              "      <td>MLB-CELLPHONES</td>\n",
              "      <td>1230.00</td>\n",
              "      <td>0.548605</td>\n",
              "      <td>6113</td>\n",
              "      <td>3</td>\n",
              "    </tr>\n",
              "  </tbody>\n",
              "</table>\n",
              "</div>"
            ],
            "text/plain": [
              "   item_id                                              title  ... encoded rank\n",
              "0  1317531  Moto G7 Play Dual Sim 32 Gb Índigo Oscuro 2 Gb...  ...    8700    1\n",
              "1  1849208  Celular Xiaomi Redmi Note 7 128 Gb /4 Gb Branc...  ...   12322    2\n",
              "2   925606  Celular Xiaomi Redmi Note 7 128 Gb / 4 Gb Bran...  ...    6113    3\n",
              "\n",
              "[3 rows x 7 columns]"
            ]
          },
          "metadata": {
            "tags": []
          },
          "execution_count": 131
        }
      ]
    },
    {
      "cell_type": "markdown",
      "metadata": {
        "id": "1Kptmoy8isjz"
      },
      "source": [
        "Here i see, in order, the similar items to 'Moto G7 Power Dual Sim 64 Gb Marine Blue 4 Gb Ram'"
      ]
    }
  ]
}
